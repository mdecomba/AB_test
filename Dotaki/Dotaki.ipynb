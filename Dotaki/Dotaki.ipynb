{
 "cells": [
  {
   "cell_type": "markdown",
   "metadata": {},
   "source": [
    "![alt text](https://www.zupimages.net/up/19/48/7ncl.png)"
   ]
  },
  {
   "cell_type": "markdown",
   "metadata": {},
   "source": [
    "# Test technique - Session 11/2019\n",
    "---"
   ]
  },
  {
   "cell_type": "markdown",
   "metadata": {},
   "source": [
    "Il est très important pour un site de e-commerce de maximiser son taux de conversion afin d'optimiser son budget référencement et publicité. <br/>\n",
    "La société DOTAKI propose de déterminer le profil de chaque nouvel utilisateur en fonction de son comportement sur le site pendant une courte durée de temps et de lui attribuer un profil type. <br/>\n",
    "Durant ce test nous allons analyser les données récupées lors d'un A/B test et essayer de déterminer quelle page doit être affichée en fonction du profil de l'utilisatuer"
   ]
  },
  {
   "cell_type": "markdown",
   "metadata": {},
   "source": [
    "# Sommaire\n",
    "1. [Partie 0: Exploration du dataset](#Part0)\n",
    "    1. [Visualisation des données](#1A)\n",
    "    2. [Formatage des données](#1B)\n",
    "    3. [Calcul des taux de conversion](#1C)\n",
    "    4. [Significativité](#1D)\n",
    "\n",
    "\n",
    "2. [Partie 1: Généralisation grâce à une fonction](#Part1) <br/>\n",
    "\n",
    "    1. [Création de la fonction](#2A)\n",
    "    2. [Comment adapter ce programme pour un nombre de variantes N (supérieur à 2) ?](#2B)\n",
    "    3. [Quelle variante retenir dans le cas où la variante B présente un taux de conversion supérieure mais un panier moyen inférieur à la variante A ?](#2C)\n",
    "\n",
    "\n",
    "3. [Partie 2 – Machine learning](#Part2)\n",
    "    1. [Détèrmination des segments les plus convertis](#3A)\n",
    "    2. [Détèrmination des segment les plus convertis en fonction de la variante affichée](#3B)\n",
    "    3. [Limitations](#3C)"
   ]
  },
  {
   "cell_type": "markdown",
   "metadata": {},
   "source": [
    "# Partie 0: Exploration du dataset<a name=\"Part0\"></a>"
   ]
  },
  {
   "cell_type": "markdown",
   "metadata": {},
   "source": [
    "## A. Visualisation des données<a name=\"1A\"></a>"
   ]
  },
  {
   "cell_type": "markdown",
   "metadata": {},
   "source": [
    "Pour commencer nous allons importer les librairies nécessaires et regarder ce que contient ce datage avec la fonction `head`"
   ]
  },
  {
   "cell_type": "code",
   "execution_count": 2,
   "metadata": {},
   "outputs": [],
   "source": [
    "import pandas as pd"
   ]
  },
  {
   "cell_type": "code",
   "execution_count": 3,
   "metadata": {},
   "outputs": [
    {
     "data": {
      "text/html": [
       "<div>\n",
       "<style scoped>\n",
       "    .dataframe tbody tr th:only-of-type {\n",
       "        vertical-align: middle;\n",
       "    }\n",
       "\n",
       "    .dataframe tbody tr th {\n",
       "        vertical-align: top;\n",
       "    }\n",
       "\n",
       "    .dataframe thead th {\n",
       "        text-align: right;\n",
       "    }\n",
       "</style>\n",
       "<table border=\"1\" class=\"dataframe\">\n",
       "  <thead>\n",
       "    <tr style=\"text-align: right;\">\n",
       "      <th></th>\n",
       "      <th>user_id_zws</th>\n",
       "      <th>variationname</th>\n",
       "      <th>converted</th>\n",
       "      <th>A</th>\n",
       "      <th>O</th>\n",
       "      <th>N</th>\n",
       "      <th>E</th>\n",
       "      <th>C</th>\n",
       "      <th>segment</th>\n",
       "    </tr>\n",
       "  </thead>\n",
       "  <tbody>\n",
       "    <tr>\n",
       "      <th>0</th>\n",
       "      <td>oMRkZI1J</td>\n",
       "      <td>Variation 2</td>\n",
       "      <td>0.0</td>\n",
       "      <td>2.592746</td>\n",
       "      <td>2.472192</td>\n",
       "      <td>2.362454</td>\n",
       "      <td>2.504104</td>\n",
       "      <td>2.423836</td>\n",
       "      <td>Audacious</td>\n",
       "    </tr>\n",
       "    <tr>\n",
       "      <th>1</th>\n",
       "      <td>lmTUiwSi</td>\n",
       "      <td>Variation 2</td>\n",
       "      <td>0.0</td>\n",
       "      <td>2.345392</td>\n",
       "      <td>2.276925</td>\n",
       "      <td>1.782853</td>\n",
       "      <td>2.302870</td>\n",
       "      <td>2.490744</td>\n",
       "      <td>Audacious</td>\n",
       "    </tr>\n",
       "    <tr>\n",
       "      <th>2</th>\n",
       "      <td>9sfYSKLB</td>\n",
       "      <td>Original</td>\n",
       "      <td>0.0</td>\n",
       "      <td>2.403846</td>\n",
       "      <td>2.602851</td>\n",
       "      <td>2.114951</td>\n",
       "      <td>2.212326</td>\n",
       "      <td>2.251903</td>\n",
       "      <td>Straightforwards</td>\n",
       "    </tr>\n",
       "  </tbody>\n",
       "</table>\n",
       "</div>"
      ],
      "text/plain": [
       "  user_id_zws variationname  converted         A         O         N  \\\n",
       "0    oMRkZI1J   Variation 2        0.0  2.592746  2.472192  2.362454   \n",
       "1    lmTUiwSi   Variation 2        0.0  2.345392  2.276925  1.782853   \n",
       "2    9sfYSKLB      Original        0.0  2.403846  2.602851  2.114951   \n",
       "\n",
       "          E         C           segment  \n",
       "0  2.504104  2.423836         Audacious  \n",
       "1  2.302870  2.490744         Audacious  \n",
       "2  2.212326  2.251903  Straightforwards  "
      ]
     },
     "execution_count": 3,
     "metadata": {},
     "output_type": "execute_result"
    }
   ],
   "source": [
    "import pandas as pd\n",
    "ab_test = pd.read_csv('ab_test_sample.csv', sep=';')\n",
    "ab_test.head(3)"
   ]
  },
  {
   "cell_type": "markdown",
   "metadata": {},
   "source": [
    "## B. Formatage des données<a name=\"1B\"></a>"
   ]
  },
  {
   "cell_type": "markdown",
   "metadata": {},
   "source": [
    "Nous pouvons simplement trouver le nombre de visiteurs et de convertis pour les deux variations.\n",
    "* Nous commençons par filtrer le dataset \n",
    "* On utilise ensuite la fonction `nunique` qui nous donne le nombre d'éléments uniques dans une série"
   ]
  },
  {
   "cell_type": "code",
   "execution_count": 4,
   "metadata": {},
   "outputs": [],
   "source": [
    "visitor_B = ab_test[ab_test['variationname'] == \"Variation 1\"]['user_id_zws'].nunique()\n",
    "converted_B = ab_test[(ab_test['variationname'] == \"Variation 1\") & (ab_test['converted'] == 1.0)]['user_id_zws'].nunique()\n",
    "\n",
    "visitor_A = ab_test[ab_test['variationname'] == \"Variation 2\"]['user_id_zws'].nunique()\n",
    "converted_A = ab_test[(ab_test['variationname'] == \"Variation 2\") & (ab_test['converted'] == 1.0)]['user_id_zws'].nunique()"
   ]
  },
  {
   "cell_type": "markdown",
   "metadata": {},
   "source": [
    "On peut ensuite créer un DataFrame contenant les variables que nous venons de créer"
   ]
  },
  {
   "cell_type": "code",
   "execution_count": 5,
   "metadata": {},
   "outputs": [
    {
     "data": {
      "text/html": [
       "<div>\n",
       "<style scoped>\n",
       "    .dataframe tbody tr th:only-of-type {\n",
       "        vertical-align: middle;\n",
       "    }\n",
       "\n",
       "    .dataframe tbody tr th {\n",
       "        vertical-align: top;\n",
       "    }\n",
       "\n",
       "    .dataframe thead th {\n",
       "        text-align: right;\n",
       "    }\n",
       "</style>\n",
       "<table border=\"1\" class=\"dataframe\">\n",
       "  <thead>\n",
       "    <tr style=\"text-align: right;\">\n",
       "      <th></th>\n",
       "      <th>Converted</th>\n",
       "      <th>Total</th>\n",
       "    </tr>\n",
       "  </thead>\n",
       "  <tbody>\n",
       "    <tr>\n",
       "      <th>Variation A</th>\n",
       "      <td>251</td>\n",
       "      <td>2116</td>\n",
       "    </tr>\n",
       "    <tr>\n",
       "      <th>Variation B</th>\n",
       "      <td>236</td>\n",
       "      <td>2101</td>\n",
       "    </tr>\n",
       "  </tbody>\n",
       "</table>\n",
       "</div>"
      ],
      "text/plain": [
       "             Converted  Total\n",
       "Variation A        251   2116\n",
       "Variation B        236   2101"
      ]
     },
     "execution_count": 5,
     "metadata": {},
     "output_type": "execute_result"
    }
   ],
   "source": [
    "data = pd.DataFrame({\n",
    "    \"Converted\": [converted_A, converted_B],\n",
    "    \"Total\": [visitor_A, visitor_B]\n",
    "    }, index=['Variation A', 'Variation B'])\n",
    "\n",
    "data.head()"
   ]
  },
  {
   "cell_type": "markdown",
   "metadata": {},
   "source": [
    "## C. Calcul des taux de conversion<a name=\"1C\"></a>"
   ]
  },
  {
   "cell_type": "markdown",
   "metadata": {},
   "source": [
    "Cela nous permet de très simplement faire des opérations sur les colonnes pour obtenir les taux de conversions des deux pages très simplement"
   ]
  },
  {
   "cell_type": "code",
   "execution_count": 6,
   "metadata": {},
   "outputs": [
    {
     "data": {
      "text/html": [
       "<div>\n",
       "<style scoped>\n",
       "    .dataframe tbody tr th:only-of-type {\n",
       "        vertical-align: middle;\n",
       "    }\n",
       "\n",
       "    .dataframe tbody tr th {\n",
       "        vertical-align: top;\n",
       "    }\n",
       "\n",
       "    .dataframe thead th {\n",
       "        text-align: right;\n",
       "    }\n",
       "</style>\n",
       "<table border=\"1\" class=\"dataframe\">\n",
       "  <thead>\n",
       "    <tr style=\"text-align: right;\">\n",
       "      <th></th>\n",
       "      <th>Converted</th>\n",
       "      <th>Total</th>\n",
       "      <th>Conversion_rate</th>\n",
       "    </tr>\n",
       "  </thead>\n",
       "  <tbody>\n",
       "    <tr>\n",
       "      <th>Variation A</th>\n",
       "      <td>251</td>\n",
       "      <td>2116</td>\n",
       "      <td>11.862004</td>\n",
       "    </tr>\n",
       "    <tr>\n",
       "      <th>Variation B</th>\n",
       "      <td>236</td>\n",
       "      <td>2101</td>\n",
       "      <td>11.232746</td>\n",
       "    </tr>\n",
       "  </tbody>\n",
       "</table>\n",
       "</div>"
      ],
      "text/plain": [
       "             Converted  Total  Conversion_rate\n",
       "Variation A        251   2116        11.862004\n",
       "Variation B        236   2101        11.232746"
      ]
     },
     "execution_count": 6,
     "metadata": {},
     "output_type": "execute_result"
    }
   ],
   "source": [
    "data['Conversion_rate'] = data['Converted']/data['Total']*100\n",
    "data.head()"
   ]
  },
  {
   "cell_type": "code",
   "execution_count": 7,
   "metadata": {},
   "outputs": [],
   "source": [
    "# conversionRate_gain = (conversionRate_B-conversionRate_A) / conversionRate_A * 100\n",
    "# conversionRate_gain"
   ]
  },
  {
   "cell_type": "markdown",
   "metadata": {},
   "source": [
    "## D. Significativité<a name=\"1D\"></a>"
   ]
  },
  {
   "cell_type": "markdown",
   "metadata": {},
   "source": [
    "On obtient la **p-valeur** grâce à la fonction `proportions_ztest` qui nous donne un indice sur la significativité du taux de conversion"
   ]
  },
  {
   "cell_type": "code",
   "execution_count": 8,
   "metadata": {},
   "outputs": [
    {
     "data": {
      "text/plain": [
       "(0.6392667869844965, 0.7386753045156282)"
      ]
     },
     "execution_count": 8,
     "metadata": {},
     "output_type": "execute_result"
    }
   ],
   "source": [
    "from statsmodels.stats.proportion import proportions_ztest\n",
    "\n",
    "proportions_ztest(count=data.Converted, nobs=data.Total, alternative='smaller')"
   ]
  },
  {
   "cell_type": "markdown",
   "metadata": {},
   "source": [
    "Ici la **p-valeur** vaut 0,74 le taux te conversion n'est donc pas significatif"
   ]
  },
  {
   "cell_type": "markdown",
   "metadata": {},
   "source": [
    "# Partie 1: Généralisation grâce à une fonction<a name=\"Part1\"></a>"
   ]
  },
  {
   "cell_type": "markdown",
   "metadata": {},
   "source": [
    "## A. Création de la fonction<a name=\"2A\"></a>"
   ]
  },
  {
   "cell_type": "markdown",
   "metadata": {},
   "source": [
    "Après avoir découvert ces valeurs, il semble intéressant de généraliser cette méthode dans une fonction.\n",
    "Pour faire nos calculs nous avons besoin de plusieurs formules<br/>\n",
    "* $Taux\\, de\\, conversion  = \\frac{Nombre\\, de\\, convertis}{nombre\\, de\\, visiteurs\\,}\\times100$\n",
    "<br/><br/>\n",
    "* $Gain\\, de\\, taux\\, de\\, conversion = \\frac{Taux\\, de\\, conversion\\, B\\, - Taux\\, de\\, conversion\\, A}{Taux\\, de\\, conversion\\, A}\\times100$"
   ]
  },
  {
   "cell_type": "code",
   "execution_count": 5,
   "metadata": {},
   "outputs": [],
   "source": [
    "def toDo(nbVisiteurs_A, nbConvertis_A, panierMoyen_A, nbVisiteurs_B, nbConvertis_B, panierMoyen_B ):\n",
    "    \n",
    "    conversionRate_A = nbConvertis_A/nbVisiteurs_A*100\n",
    "    conversionRate_B = nbConvertis_B/nbVisiteurs_B*100\n",
    "    \n",
    "    conversionRate_gain = (conversionRate_B-conversionRate_A) / conversionRate_A * 100\n",
    "    \n",
    "    panierGain = (panierMoyen_B-panierMoyen_A) / panierMoyen_A * 100\n",
    "    \n",
    "    v, p_conversion = proportions_ztest(count=pd.Series([nbConvertis_A, nbConvertis_B]), nobs=pd.Series([nbVisiteurs_A,nbVisiteurs_B]), alternative='smaller')\n",
    "    significativite = 100.0- p_conversion * 100\n",
    "    \n",
    "    d = dict()\n",
    "    d['conversionRate_gain'] = str(conversionRate_gain) + \" %\"\n",
    "    d['significativite'] = str(significativite) + \" %\"\n",
    "    d['panierGain'] = str(panierGain) + \" %\"\n",
    "    \n",
    "    return d"
   ]
  },
  {
   "cell_type": "markdown",
   "metadata": {},
   "source": [
    "On teste notre fonction avec les valeurs du dataset"
   ]
  },
  {
   "cell_type": "code",
   "execution_count": 10,
   "metadata": {},
   "outputs": [
    {
     "data": {
      "text/plain": [
       "{'conversionRate_gain': '-5.304815957493203 %',\n",
       " 'significativite': '26.13246954843717 %',\n",
       " 'panierGain': '50.0 %'}"
      ]
     },
     "execution_count": 10,
     "metadata": {},
     "output_type": "execute_result"
    }
   ],
   "source": [
    "toDo(2116, 251, 10, 2101, 236, 15)"
   ]
  },
  {
   "cell_type": "markdown",
   "metadata": {},
   "source": [
    "## B. Comment adapter ce programme pour un nombre de variantes N (supérieur à 2) ? <a name=\"2B\"></a>"
   ]
  },
  {
   "cell_type": "markdown",
   "metadata": {},
   "source": [
    "Pour plus de **variante** que 2, il va falloir comparer les taux de conversion de chaque variante à la page originale. <br/>\n",
    "On choisira la variante qui a le **gain relatif** le plus grand. "
   ]
  },
  {
   "cell_type": "markdown",
   "metadata": {},
   "source": [
    "## C. Quelle variante retenir dans le cas où la variante B présente un taux de conversion supérieure mais un panier moyen inférieur à la variante A ?<a name=\"2C\"></a>"
   ]
  },
  {
   "cell_type": "markdown",
   "metadata": {},
   "source": [
    "Dans ce cas là on multipliera le taux de conversion par le panier moyen de chaque variante. <br/>\n",
    "On choisira  la variante qui a le produit le plus haut"
   ]
  },
  {
   "cell_type": "markdown",
   "metadata": {},
   "source": [
    "# Partie 2: Machine learning<a name=\"Part2\"></a>"
   ]
  },
  {
   "cell_type": "markdown",
   "metadata": {},
   "source": [
    "## A. Détèrmination des segments les plus convertis<a name=\"3A\"></a>"
   ]
  },
  {
   "cell_type": "markdown",
   "metadata": {},
   "source": [
    "On nous demande d'évaluer quelle variation de la page doit être affichée pour chaque `segment`. <br/>"
   ]
  },
  {
   "cell_type": "markdown",
   "metadata": {},
   "source": [
    "On peut commencer par analyser les segments ayant le meilleur taux de conversion\n",
    "* on commence par grouper par segment\n",
    "* la fonction `count` nous donne le nombre total de colonne de chaque segment.\n",
    "* la fonction `sum` appliqué à la colonne `converted` nous donne le nombre de convertis. par segment"
   ]
  },
  {
   "cell_type": "code",
   "execution_count": 15,
   "metadata": {},
   "outputs": [
    {
     "data": {
      "text/html": [
       "<div>\n",
       "<style scoped>\n",
       "    .dataframe tbody tr th:only-of-type {\n",
       "        vertical-align: middle;\n",
       "    }\n",
       "\n",
       "    .dataframe tbody tr th {\n",
       "        vertical-align: top;\n",
       "    }\n",
       "\n",
       "    .dataframe thead th {\n",
       "        text-align: right;\n",
       "    }\n",
       "</style>\n",
       "<table border=\"1\" class=\"dataframe\">\n",
       "  <thead>\n",
       "    <tr style=\"text-align: right;\">\n",
       "      <th></th>\n",
       "      <th>Segment</th>\n",
       "      <th>Total</th>\n",
       "      <th>Converted</th>\n",
       "    </tr>\n",
       "  </thead>\n",
       "  <tbody>\n",
       "    <tr>\n",
       "      <th>0</th>\n",
       "      <td>Audacious</td>\n",
       "      <td>658</td>\n",
       "      <td>89.0</td>\n",
       "    </tr>\n",
       "    <tr>\n",
       "      <th>1</th>\n",
       "      <td>Straightforwards</td>\n",
       "      <td>1195</td>\n",
       "      <td>104.0</td>\n",
       "    </tr>\n",
       "    <tr>\n",
       "      <th>2</th>\n",
       "      <td>Homebodies</td>\n",
       "      <td>611</td>\n",
       "      <td>52.0</td>\n",
       "    </tr>\n",
       "    <tr>\n",
       "      <th>3</th>\n",
       "      <td>Emotives</td>\n",
       "      <td>645</td>\n",
       "      <td>72.0</td>\n",
       "    </tr>\n",
       "    <tr>\n",
       "      <th>4</th>\n",
       "      <td>Altruists</td>\n",
       "      <td>624</td>\n",
       "      <td>61.0</td>\n",
       "    </tr>\n",
       "    <tr>\n",
       "      <th>5</th>\n",
       "      <td>Hedonists</td>\n",
       "      <td>2157</td>\n",
       "      <td>284.0</td>\n",
       "    </tr>\n",
       "    <tr>\n",
       "      <th>6</th>\n",
       "      <td>Conventionals</td>\n",
       "      <td>447</td>\n",
       "      <td>40.0</td>\n",
       "    </tr>\n",
       "    <tr>\n",
       "      <th>7</th>\n",
       "      <td>Analyticals</td>\n",
       "      <td>1093</td>\n",
       "      <td>113.0</td>\n",
       "    </tr>\n",
       "    <tr>\n",
       "      <th>8</th>\n",
       "      <td>Trend Setters</td>\n",
       "      <td>653</td>\n",
       "      <td>66.0</td>\n",
       "    </tr>\n",
       "    <tr>\n",
       "      <th>9</th>\n",
       "      <td>Attentives</td>\n",
       "      <td>455</td>\n",
       "      <td>63.0</td>\n",
       "    </tr>\n",
       "  </tbody>\n",
       "</table>\n",
       "</div>"
      ],
      "text/plain": [
       "            Segment  Total  Converted\n",
       "0         Audacious    658       89.0\n",
       "1  Straightforwards   1195      104.0\n",
       "2        Homebodies    611       52.0\n",
       "3          Emotives    645       72.0\n",
       "4         Altruists    624       61.0\n",
       "5         Hedonists   2157      284.0\n",
       "6     Conventionals    447       40.0\n",
       "7       Analyticals   1093      113.0\n",
       "8     Trend Setters    653       66.0\n",
       "9        Attentives    455       63.0"
      ]
     },
     "execution_count": 15,
     "metadata": {},
     "output_type": "execute_result"
    }
   ],
   "source": [
    "import matplotlib.pyplot as plt\n",
    "from matplotlib.pyplot import figure\n",
    "\n",
    "type(ab_test.groupby('segment')['converted'].sum())\n",
    "convertedPerSegment = pd.DataFrame({\n",
    "    \"Segment\": [x for x in ab_test['segment'].unique()],\n",
    "    \"Total\": [x for x in ab_test.groupby('segment')['converted'].count()],\n",
    "    \"Converted\": [x for x in ab_test.groupby('segment')['converted'].sum()]\n",
    "    })\n",
    "\n",
    "convertedPerSegment"
   ]
  },
  {
   "cell_type": "markdown",
   "metadata": {},
   "source": [
    "On peut maintenant recalculer le taux de conversion par segment avec la même formule que précédemment.<br/>\n",
    "$Taux\\, de\\, conversion  = \\frac{Nombre\\, de\\, convertis}{nombre\\, de\\, visiteurs\\,}\\times100$"
   ]
  },
  {
   "cell_type": "code",
   "execution_count": 16,
   "metadata": {},
   "outputs": [
    {
     "data": {
      "text/plain": [
       "<BarContainer object of 10 artists>"
      ]
     },
     "execution_count": 16,
     "metadata": {},
     "output_type": "execute_result"
    },
    {
     "data": {
      "image/png": "[encoded data removed]",
      "text/plain": [
       "<Figure size 1440x720 with 1 Axes>"
      ]
     },
     "metadata": {
      "needs_background": "light"
     },
     "output_type": "display_data"
    }
   ],
   "source": [
    "convertedPerSegment['Conversion_rate'] = convertedPerSegment['Converted']/convertedPerSegment['Total'] * 100\n",
    "\n",
    "figure(figsize=(20, 10))\n",
    "plt.bar(convertedPerSegment['Segment'], convertedPerSegment['Conversion_rate'].sort_values(ascending = False) )"
   ]
  },
  {
   "cell_type": "markdown",
   "metadata": {},
   "source": [
    "Ce graphe nous donne plusieurs informations :\n",
    "* On remarque que le segment **Audacious** est celui qui à le taux de conversion le plus important, il peut donc être intéressant de le cibler en priorité. <br/>\n",
    "* En revanche le segment **Attentives** est celui qui à le taux de conversion le plus bas, il sera important de prendre cette donnée en compte lorsque l'on fera des publicités ciblées par exemple."
   ]
  },
  {
   "cell_type": "markdown",
   "metadata": {},
   "source": [
    "## B. Détèrmination des segment les plus convertis en fonction de la variante affichée. <a name=\"3B\"></a>"
   ]
  },
  {
   "cell_type": "markdown",
   "metadata": {},
   "source": [
    "Il est intéressant de construire un tavbleau ayant plusieurs index.\n",
    "* Nous prendrons en premier index: **le segment**\n",
    "* et en deuxième index: **la variation utilisée**\n",
    "\n",
    "Pour faire cela on passera un **tableau** en argument de la fonction `groupby`"
   ]
  },
  {
   "cell_type": "code",
   "execution_count": 21,
   "metadata": {
    "scrolled": true
   },
   "outputs": [],
   "source": [
    "ab_test = ab_test[ab_test['variationname'] != 'Original bis']\n",
    "converted = ab_test.groupby(['segment', 'variationname'])['converted'].sum()\n",
    "total = ab_test.groupby(['segment', 'variationname'])['converted'].count()"
   ]
  },
  {
   "cell_type": "markdown",
   "metadata": {},
   "source": [
    "On passe ensuite la série multi indexé en paramètre de la fonction pandas `DataFrame`"
   ]
  },
  {
   "cell_type": "code",
   "execution_count": 22,
   "metadata": {},
   "outputs": [],
   "source": [
    "data = pd.DataFrame(converted)\n",
    "data['total'] = total"
   ]
  },
  {
   "cell_type": "markdown",
   "metadata": {},
   "source": [
    "On peut donc très facilement calculer le taux de conversion de chaque segment sur chaque variation grâce à un calcul de colonne simple"
   ]
  },
  {
   "cell_type": "code",
   "execution_count": 23,
   "metadata": {},
   "outputs": [],
   "source": [
    "data['convrsion_rate'] = data['converted']/data['total'] * 100"
   ]
  },
  {
   "cell_type": "markdown",
   "metadata": {},
   "source": [
    "On récupère dans un tableau toutes les valeurs prises par `segment`"
   ]
  },
  {
   "cell_type": "code",
   "execution_count": 25,
   "metadata": {},
   "outputs": [],
   "source": [
    "segments = data.index.get_level_values(0).unique()"
   ]
  },
  {
   "cell_type": "markdown",
   "metadata": {},
   "source": [
    "Pour déterminer le varation à utiliser on récupère la valeur en index du plus haut taux de conversion par `segment`"
   ]
  },
  {
   "cell_type": "code",
   "execution_count": 24,
   "metadata": {},
   "outputs": [
    {
     "data": {
      "text/html": [
       "<div>\n",
       "<style scoped>\n",
       "    .dataframe tbody tr th:only-of-type {\n",
       "        vertical-align: middle;\n",
       "    }\n",
       "\n",
       "    .dataframe tbody tr th {\n",
       "        vertical-align: top;\n",
       "    }\n",
       "\n",
       "    .dataframe thead th {\n",
       "        text-align: right;\n",
       "    }\n",
       "</style>\n",
       "<table border=\"1\" class=\"dataframe\">\n",
       "  <thead>\n",
       "    <tr style=\"text-align: right;\">\n",
       "      <th></th>\n",
       "      <th></th>\n",
       "      <th>converted</th>\n",
       "      <th>total</th>\n",
       "      <th>convrsion_rate</th>\n",
       "      <th>best_variation</th>\n",
       "    </tr>\n",
       "    <tr>\n",
       "      <th>segment</th>\n",
       "      <th>variationname</th>\n",
       "      <th></th>\n",
       "      <th></th>\n",
       "      <th></th>\n",
       "      <th></th>\n",
       "    </tr>\n",
       "  </thead>\n",
       "  <tbody>\n",
       "    <tr>\n",
       "      <th rowspan=\"3\" valign=\"top\">Altruists</th>\n",
       "      <th>Original</th>\n",
       "      <td>17.0</td>\n",
       "      <td>172</td>\n",
       "      <td>9.883721</td>\n",
       "      <td>Variation 1</td>\n",
       "    </tr>\n",
       "    <tr>\n",
       "      <th>Variation 1</th>\n",
       "      <td>22.0</td>\n",
       "      <td>166</td>\n",
       "      <td>13.253012</td>\n",
       "      <td>Variation 1</td>\n",
       "    </tr>\n",
       "    <tr>\n",
       "      <th>Variation 2</th>\n",
       "      <td>19.0</td>\n",
       "      <td>145</td>\n",
       "      <td>13.103448</td>\n",
       "      <td>Variation 1</td>\n",
       "    </tr>\n",
       "    <tr>\n",
       "      <th rowspan=\"3\" valign=\"top\">Analyticals</th>\n",
       "      <th>Original</th>\n",
       "      <td>21.0</td>\n",
       "      <td>298</td>\n",
       "      <td>7.046980</td>\n",
       "      <td>Variation 2</td>\n",
       "    </tr>\n",
       "    <tr>\n",
       "      <th>Variation 1</th>\n",
       "      <td>24.0</td>\n",
       "      <td>299</td>\n",
       "      <td>8.026756</td>\n",
       "      <td>Variation 2</td>\n",
       "    </tr>\n",
       "    <tr>\n",
       "      <th>Variation 2</th>\n",
       "      <td>30.0</td>\n",
       "      <td>292</td>\n",
       "      <td>10.273973</td>\n",
       "      <td>Variation 2</td>\n",
       "    </tr>\n",
       "    <tr>\n",
       "      <th rowspan=\"3\" valign=\"top\">Attentives</th>\n",
       "      <th>Original</th>\n",
       "      <td>8.0</td>\n",
       "      <td>150</td>\n",
       "      <td>5.333333</td>\n",
       "      <td>Variation 1</td>\n",
       "    </tr>\n",
       "    <tr>\n",
       "      <th>Variation 1</th>\n",
       "      <td>19.0</td>\n",
       "      <td>164</td>\n",
       "      <td>11.585366</td>\n",
       "      <td>Variation 1</td>\n",
       "    </tr>\n",
       "    <tr>\n",
       "      <th>Variation 2</th>\n",
       "      <td>15.0</td>\n",
       "      <td>148</td>\n",
       "      <td>10.135135</td>\n",
       "      <td>Variation 1</td>\n",
       "    </tr>\n",
       "    <tr>\n",
       "      <th rowspan=\"3\" valign=\"top\">Audacious</th>\n",
       "      <th>Original</th>\n",
       "      <td>10.0</td>\n",
       "      <td>166</td>\n",
       "      <td>6.024096</td>\n",
       "      <td>Variation 2</td>\n",
       "    </tr>\n",
       "    <tr>\n",
       "      <th>Variation 1</th>\n",
       "      <td>21.0</td>\n",
       "      <td>154</td>\n",
       "      <td>13.636364</td>\n",
       "      <td>Variation 2</td>\n",
       "    </tr>\n",
       "    <tr>\n",
       "      <th>Variation 2</th>\n",
       "      <td>23.0</td>\n",
       "      <td>167</td>\n",
       "      <td>13.772455</td>\n",
       "      <td>Variation 2</td>\n",
       "    </tr>\n",
       "    <tr>\n",
       "      <th rowspan=\"3\" valign=\"top\">Conventionals</th>\n",
       "      <th>Original</th>\n",
       "      <td>21.0</td>\n",
       "      <td>159</td>\n",
       "      <td>13.207547</td>\n",
       "      <td>Original</td>\n",
       "    </tr>\n",
       "    <tr>\n",
       "      <th>Variation 1</th>\n",
       "      <td>13.0</td>\n",
       "      <td>154</td>\n",
       "      <td>8.441558</td>\n",
       "      <td>Original</td>\n",
       "    </tr>\n",
       "    <tr>\n",
       "      <th>Variation 2</th>\n",
       "      <td>13.0</td>\n",
       "      <td>165</td>\n",
       "      <td>7.878788</td>\n",
       "      <td>Original</td>\n",
       "    </tr>\n",
       "    <tr>\n",
       "      <th rowspan=\"3\" valign=\"top\">Emotives</th>\n",
       "      <th>Original</th>\n",
       "      <td>72.0</td>\n",
       "      <td>572</td>\n",
       "      <td>12.587413</td>\n",
       "      <td>Variation 2</td>\n",
       "    </tr>\n",
       "    <tr>\n",
       "      <th>Variation 1</th>\n",
       "      <td>64.0</td>\n",
       "      <td>506</td>\n",
       "      <td>12.648221</td>\n",
       "      <td>Variation 2</td>\n",
       "    </tr>\n",
       "    <tr>\n",
       "      <th>Variation 2</th>\n",
       "      <td>74.0</td>\n",
       "      <td>535</td>\n",
       "      <td>13.831776</td>\n",
       "      <td>Variation 2</td>\n",
       "    </tr>\n",
       "    <tr>\n",
       "      <th rowspan=\"3\" valign=\"top\">Hedonists</th>\n",
       "      <th>Original</th>\n",
       "      <td>13.0</td>\n",
       "      <td>134</td>\n",
       "      <td>9.701493</td>\n",
       "      <td>Variation 2</td>\n",
       "    </tr>\n",
       "    <tr>\n",
       "      <th>Variation 1</th>\n",
       "      <td>7.0</td>\n",
       "      <td>107</td>\n",
       "      <td>6.542056</td>\n",
       "      <td>Variation 2</td>\n",
       "    </tr>\n",
       "    <tr>\n",
       "      <th>Variation 2</th>\n",
       "      <td>12.0</td>\n",
       "      <td>103</td>\n",
       "      <td>11.650485</td>\n",
       "      <td>Variation 2</td>\n",
       "    </tr>\n",
       "    <tr>\n",
       "      <th rowspan=\"3\" valign=\"top\">Homebodies</th>\n",
       "      <th>Original</th>\n",
       "      <td>23.0</td>\n",
       "      <td>249</td>\n",
       "      <td>9.236948</td>\n",
       "      <td>Variation 1</td>\n",
       "    </tr>\n",
       "    <tr>\n",
       "      <th>Variation 1</th>\n",
       "      <td>33.0</td>\n",
       "      <td>281</td>\n",
       "      <td>11.743772</td>\n",
       "      <td>Variation 1</td>\n",
       "    </tr>\n",
       "    <tr>\n",
       "      <th>Variation 2</th>\n",
       "      <td>30.0</td>\n",
       "      <td>285</td>\n",
       "      <td>10.526316</td>\n",
       "      <td>Variation 1</td>\n",
       "    </tr>\n",
       "    <tr>\n",
       "      <th rowspan=\"3\" valign=\"top\">Straightforwards</th>\n",
       "      <th>Original</th>\n",
       "      <td>16.0</td>\n",
       "      <td>172</td>\n",
       "      <td>9.302326</td>\n",
       "      <td>Variation 1</td>\n",
       "    </tr>\n",
       "    <tr>\n",
       "      <th>Variation 1</th>\n",
       "      <td>17.0</td>\n",
       "      <td>157</td>\n",
       "      <td>10.828025</td>\n",
       "      <td>Variation 1</td>\n",
       "    </tr>\n",
       "    <tr>\n",
       "      <th>Variation 2</th>\n",
       "      <td>17.0</td>\n",
       "      <td>159</td>\n",
       "      <td>10.691824</td>\n",
       "      <td>Variation 1</td>\n",
       "    </tr>\n",
       "    <tr>\n",
       "      <th rowspan=\"3\" valign=\"top\">Trend Setters</th>\n",
       "      <th>Original</th>\n",
       "      <td>18.0</td>\n",
       "      <td>117</td>\n",
       "      <td>15.384615</td>\n",
       "      <td>Original</td>\n",
       "    </tr>\n",
       "    <tr>\n",
       "      <th>Variation 1</th>\n",
       "      <td>16.0</td>\n",
       "      <td>113</td>\n",
       "      <td>14.159292</td>\n",
       "      <td>Original</td>\n",
       "    </tr>\n",
       "    <tr>\n",
       "      <th>Variation 2</th>\n",
       "      <td>18.0</td>\n",
       "      <td>117</td>\n",
       "      <td>15.384615</td>\n",
       "      <td>Original</td>\n",
       "    </tr>\n",
       "  </tbody>\n",
       "</table>\n",
       "</div>"
      ],
      "text/plain": [
       "                                converted  total  convrsion_rate  \\\n",
       "segment          variationname                                     \n",
       "Altruists        Original            17.0    172        9.883721   \n",
       "                 Variation 1         22.0    166       13.253012   \n",
       "                 Variation 2         19.0    145       13.103448   \n",
       "Analyticals      Original            21.0    298        7.046980   \n",
       "                 Variation 1         24.0    299        8.026756   \n",
       "                 Variation 2         30.0    292       10.273973   \n",
       "Attentives       Original             8.0    150        5.333333   \n",
       "                 Variation 1         19.0    164       11.585366   \n",
       "                 Variation 2         15.0    148       10.135135   \n",
       "Audacious        Original            10.0    166        6.024096   \n",
       "                 Variation 1         21.0    154       13.636364   \n",
       "                 Variation 2         23.0    167       13.772455   \n",
       "Conventionals    Original            21.0    159       13.207547   \n",
       "                 Variation 1         13.0    154        8.441558   \n",
       "                 Variation 2         13.0    165        7.878788   \n",
       "Emotives         Original            72.0    572       12.587413   \n",
       "                 Variation 1         64.0    506       12.648221   \n",
       "                 Variation 2         74.0    535       13.831776   \n",
       "Hedonists        Original            13.0    134        9.701493   \n",
       "                 Variation 1          7.0    107        6.542056   \n",
       "                 Variation 2         12.0    103       11.650485   \n",
       "Homebodies       Original            23.0    249        9.236948   \n",
       "                 Variation 1         33.0    281       11.743772   \n",
       "                 Variation 2         30.0    285       10.526316   \n",
       "Straightforwards Original            16.0    172        9.302326   \n",
       "                 Variation 1         17.0    157       10.828025   \n",
       "                 Variation 2         17.0    159       10.691824   \n",
       "Trend Setters    Original            18.0    117       15.384615   \n",
       "                 Variation 1         16.0    113       14.159292   \n",
       "                 Variation 2         18.0    117       15.384615   \n",
       "\n",
       "                               best_variation  \n",
       "segment          variationname                 \n",
       "Altruists        Original         Variation 1  \n",
       "                 Variation 1      Variation 1  \n",
       "                 Variation 2      Variation 1  \n",
       "Analyticals      Original         Variation 2  \n",
       "                 Variation 1      Variation 2  \n",
       "                 Variation 2      Variation 2  \n",
       "Attentives       Original         Variation 1  \n",
       "                 Variation 1      Variation 1  \n",
       "                 Variation 2      Variation 1  \n",
       "Audacious        Original         Variation 2  \n",
       "                 Variation 1      Variation 2  \n",
       "                 Variation 2      Variation 2  \n",
       "Conventionals    Original            Original  \n",
       "                 Variation 1         Original  \n",
       "                 Variation 2         Original  \n",
       "Emotives         Original         Variation 2  \n",
       "                 Variation 1      Variation 2  \n",
       "                 Variation 2      Variation 2  \n",
       "Hedonists        Original         Variation 2  \n",
       "                 Variation 1      Variation 2  \n",
       "                 Variation 2      Variation 2  \n",
       "Homebodies       Original         Variation 1  \n",
       "                 Variation 1      Variation 1  \n",
       "                 Variation 2      Variation 1  \n",
       "Straightforwards Original         Variation 1  \n",
       "                 Variation 1      Variation 1  \n",
       "                 Variation 2      Variation 1  \n",
       "Trend Setters    Original            Original  \n",
       "                 Variation 1         Original  \n",
       "                 Variation 2         Original  "
      ]
     },
     "execution_count": 24,
     "metadata": {},
     "output_type": "execute_result"
    }
   ],
   "source": [
    "for x in segments:\n",
    "    data.loc[x, 'best_variation'] = data.loc[x][data.loc[x]['convrsion_rate'] == data.loc[x]['convrsion_rate'].max()].index[0]"
   ]
  },
  {
   "cell_type": "markdown",
   "metadata": {},
   "source": [
    "On a donc dans la colonne best_variation la variation à afficher en fonction du segment de l'utilisateur"
   ]
  },
  {
   "cell_type": "markdown",
   "metadata": {},
   "source": [
    "## C. Limitations<a name=\"3C\"></a>"
   ]
  },
  {
   "cell_type": "markdown",
   "metadata": {},
   "source": [
    "On voit que pour chaque segment nous avons qu'un très petit échantillon. <br/>\n",
    "Il serait donc intéressant d'enregistrer pendant plus longtemps les données afin d'avoir des résultats significatifs."
   ]
  }
 ],
 "metadata": {
  "kernelspec": {
   "display_name": "Python 3",
   "language": "python",
   "name": "python3"
  },
  "language_info": {
   "codemirror_mode": {
    "name": "ipython",
    "version": 3
   },
   "file_extension": ".py",
   "mimetype": "text/x-python",
   "name": "python",
   "nbconvert_exporter": "python",
   "pygments_lexer": "ipython3",
   "version": "3.7.3"
  }
 },
 "nbformat": 4,
 "nbformat_minor": 2
}
